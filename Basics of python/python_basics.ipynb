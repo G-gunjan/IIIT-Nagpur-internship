{
 "cells": [
  {
   "cell_type": "markdown",
   "id": "4b5b5917",
   "metadata": {},
   "source": [
    "# Python Basics\n",
    "This notebook covers the basic concepts of Python programming."
   ]
  },
  {
   "cell_type": "markdown",
   "id": "8c878104",
   "metadata": {},
   "source": [
    "## Variables and Data Types"
   ]
  },
  {
   "cell_type": "code",
   "execution_count": null,
   "id": "4b32ed6f",
   "metadata": {},
   "outputs": [],
   "source": [
    "# Assigning values to variables\n",
    "x = 5\n",
    "name = \"Alice\"\n",
    "pi = 3.14\n",
    "\n",
    "# Printing variable types\n",
    "print(type(x))\n",
    "print(type(name))\n",
    "print(type(pi))"
   ]
  },
  {
   "cell_type": "markdown",
   "id": "aafd48dd",
   "metadata": {},
   "source": [
    "## Basic Operators"
   ]
  },
  {
   "cell_type": "code",
   "execution_count": null,
   "id": "379b841f",
   "metadata": {},
   "outputs": [],
   "source": [
    "# Arithmetic operators\n",
    "a = 10\n",
    "b = 3\n",
    "\n",
    "print(\"Addition:\", a + b)\n",
    "print(\"Subtraction:\", a - b)\n",
    "print(\"Multiplication:\", a * b)\n",
    "print(\"Division:\", a / b)\n",
    "print(\"Integer Division:\", a // b)\n",
    "print(\"Modulus:\", a % b)\n",
    "print(\"Exponentiation:\", a ** b)"
   ]
  },
  {
   "cell_type": "markdown",
   "id": "80f2beb8",
   "metadata": {},
   "source": [
    "## Control Flow"
   ]
  },
  {
   "cell_type": "code",
   "execution_count": null,
   "id": "c8c5aa6d",
   "metadata": {},
   "outputs": [],
   "source": [
    "# Conditional statements\n",
    "num = 10\n",
    "\n",
    "if num > 0:\n",
    "    print(\"Positive number\")\n",
    "elif num == 0:\n",
    "    print(\"Zero\")\n",
    "else:\n",
    "    print(\"Negative number\")"
   ]
  },
  {
   "cell_type": "markdown",
   "id": "3482a284",
   "metadata": {},
   "source": [
    "## Loops"
   ]
  },
  {
   "cell_type": "code",
   "execution_count": null,
   "id": "ff7ed02c",
   "metadata": {},
   "outputs": [],
   "source": [
    "# For loop\n",
    "for i in range(5):\n",
    "    print(\"For Loop Iteration:\", i)\n",
    "\n",
    "# While loop\n",
    "count = 0\n",
    "while count < 5:\n",
    "    print(\"While Loop Count:\", count)\n",
    "    count += 1"
   ]
  },
  {
   "cell_type": "markdown",
   "id": "78fe3dbd",
   "metadata": {},
   "source": [
    "## Functions"
   ]
  },
  {
   "cell_type": "code",
   "execution_count": null,
   "id": "93d0d69f",
   "metadata": {},
   "outputs": [],
   "source": [
    "# Defining and calling a function\n",
    "def greet(name):\n",
    "    return \"Hello, \" + name + \"!\"\n",
    "\n",
    "print(greet(\"Alice\"))"
   ]
  },
  {
   "cell_type": "markdown",
   "id": "84f98963",
   "metadata": {},
   "source": [
    "## Lists and Dictionaries"
   ]
  },
  {
   "cell_type": "code",
   "execution_count": null,
   "id": "fd39f2dd",
   "metadata": {},
   "outputs": [],
   "source": [
    "# List\n",
    "fruits = [\"apple\", \"banana\", \"cherry\"]\n",
    "print(fruits[0])\n",
    "fruits.append(\"orange\")\n",
    "print(fruits)\n",
    "\n",
    "# Dictionary\n",
    "person = {\"name\": \"Alice\", \"age\": 25}\n",
    "print(person[\"name\"])\n",
    "person[\"age\"] = 26\n",
    "print(person)"
   ]
  },
  {
   "cell_type": "markdown",
   "id": "2b3047dc",
   "metadata": {},
   "source": [
    "## Factorial Program using Recursion"
   ]
  },
  {
   "cell_type": "code",
   "execution_count": null,
   "id": "5dcdbd99",
   "metadata": {},
   "outputs": [],
   "source": [
    "def factorial(n):\n",
    "    if n == 0 or n == 1:\n",
    "        return 1\n",
    "    else:\n",
    "        return n * factorial(n - 1)\n",
    "\n",
    "print(\"Factorial of 5:\", factorial(5))"
   ]
  },
  {
   "cell_type": "markdown",
   "id": "55ee54b6",
   "metadata": {},
   "source": [
    "## Fibonacci Program using Recursion"
   ]
  },
  {
   "cell_type": "code",
   "execution_count": null,
   "id": "5bdeec85",
   "metadata": {},
   "outputs": [],
   "source": [
    "def fibonacci(n):\n",
    "    if n <= 0:\n",
    "        return 0\n",
    "    elif n == 1:\n",
    "        return 1\n",
    "    else:\n",
    "        return fibonacci(n - 1) + fibonacci(n - 2)\n",
    "\n",
    "print(\"Fibonacci sequence up to 7 terms:\")\n",
    "for i in range(7):\n",
    "    print(fibonacci(i), end=\" \")"
   ]
  },
  {
   "cell_type": "markdown",
   "id": "9a4ce9df",
   "metadata": {},
   "source": [
    "## String and Its Functions"
   ]
  },
  {
   "cell_type": "code",
   "execution_count": null,
   "id": "2d4186f8",
   "metadata": {},
   "outputs": [],
   "source": [
    "text = \"  Hello World  \"\n",
    "print(\"Original:\", text)\n",
    "print(\"Lowercase:\", text.lower())\n",
    "print(\"Uppercase:\", text.upper())\n",
    "print(\"Stripped:\", text.strip())\n",
    "print(\"Split:\", text.split())\n",
    "print(\"Replace:\", text.replace(\"World\", \"Python\"))\n",
    "print(\"Starts with 'Hello':\", text.strip().startswith(\"Hello\"))\n",
    "print(\"Length:\", len(text))"
   ]
  },
  {
   "cell_type": "markdown",
   "id": "00bce169",
   "metadata": {},
   "source": [
    "## Usage of Break and Continue"
   ]
  },
  {
   "cell_type": "code",
   "execution_count": null,
   "id": "6f5b2beb",
   "metadata": {},
   "outputs": [],
   "source": [
    "# Using break\n",
    "for i in range(10):\n",
    "    if i == 5:\n",
    "        break\n",
    "    print(\"Break Loop:\", i)\n",
    "\n",
    "# Using continue\n",
    "for i in range(10):\n",
    "    if i % 2 == 0:\n",
    "        continue\n",
    "    print(\"Continue Loop (Odd numbers):\", i)"
   ]
  },
  {
   "cell_type": "markdown",
   "id": "3e68ab28",
   "metadata": {},
   "source": [
    "## Global and Local Variables"
   ]
  },
  {
   "cell_type": "code",
   "execution_count": null,
   "id": "9abe91bb",
   "metadata": {},
   "outputs": [],
   "source": [
    "x = 10  # Global variable\n",
    "\n",
    "def demo():\n",
    "    x = 5  # Local variable\n",
    "    print(\"Inside function (local x):\", x)\n",
    "\n",
    "def modify_global():\n",
    "    global x\n",
    "    x = 20  # Modifying global variable\n",
    "    print(\"Inside modify_global (modified global x):\", x)\n",
    "\n",
    "demo()\n",
    "print(\"Outside function (global x):\", x)\n",
    "modify_global()\n",
    "print(\"Outside after modify_global (global x):\", x)"
   ]
  }
 ],
 "metadata": {},
 "nbformat": 4,
 "nbformat_minor": 5
}
