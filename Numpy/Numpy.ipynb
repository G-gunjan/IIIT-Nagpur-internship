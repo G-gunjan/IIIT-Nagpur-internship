{
 "cells": [
  {
   "cell_type": "code",
   "execution_count": 2,
   "id": "3952237a-d2ee-4301-b68a-6c654dfc7ff1",
   "metadata": {},
   "outputs": [],
   "source": [
    "import numpy as np"
   ]
  },
  {
   "cell_type": "code",
   "execution_count": 2,
   "id": "bb72b1cb-5c90-4f3e-a4cf-cd4c4c11a1b4",
   "metadata": {},
   "outputs": [
    {
     "name": "stdout",
     "output_type": "stream",
     "text": [
      "<class 'list'>\n",
      "<class 'numpy.ndarray'>\n"
     ]
    }
   ],
   "source": [
    "lst=[1,2,3,4]\n",
    "print(type(lst))\n",
    "arr=np.array(lst)\n",
    "print(type(arr))"
   ]
  },
  {
   "cell_type": "code",
   "execution_count": 3,
   "id": "f9ea323f-6b52-4893-bc44-4f0bb0fe5c0e",
   "metadata": {},
   "outputs": [
    {
     "name": "stdout",
     "output_type": "stream",
     "text": [
      "[1 2 3 4]\n"
     ]
    }
   ],
   "source": [
    "arr=np.array(lst,ndmin=1)\n",
    "print(arr)"
   ]
  },
  {
   "cell_type": "code",
   "execution_count": 4,
   "id": "79c5a5c4-c8cb-4e56-b869-999ab3abab2f",
   "metadata": {},
   "outputs": [
    {
     "name": "stdout",
     "output_type": "stream",
     "text": [
      "[[1 2 3 4]]\n"
     ]
    }
   ],
   "source": [
    "arr=np.array(lst,ndmin=2)\n",
    "print(arr)"
   ]
  },
  {
   "cell_type": "code",
   "execution_count": 5,
   "id": "e3763072-df00-4e60-9c35-8cf8672f88e2",
   "metadata": {},
   "outputs": [
    {
     "data": {
      "text/plain": [
       "array([1, 3, 5, 7, 9])"
      ]
     },
     "execution_count": 5,
     "metadata": {},
     "output_type": "execute_result"
    }
   ],
   "source": [
    "np.arange(1,10,2) # returns an array with evenly spaced elements as per the interval "
   ]
  },
  {
   "cell_type": "code",
   "execution_count": 6,
   "id": "52f84f86-81a5-4c42-b3c1-a7fb99977fd3",
   "metadata": {},
   "outputs": [
    {
     "name": "stdout",
     "output_type": "stream",
     "text": [
      "[[1 2 3]\n",
      " [4 5 6]\n",
      " [7 8 9]]\n"
     ]
    }
   ],
   "source": [
    "arr=np.array(([1,2,3],[4,5,6],[7,8,9]))\n",
    "print(arr)"
   ]
  },
  {
   "cell_type": "code",
   "execution_count": 7,
   "id": "caa6111e-e163-4dca-bb83-d629bccb7c34",
   "metadata": {},
   "outputs": [
    {
     "name": "stdout",
     "output_type": "stream",
     "text": [
      "total: 9\n",
      "rows: 3\n",
      "rows: 3\n"
     ]
    }
   ],
   "source": [
    "arr=np.array(([1,2,3],[4,5,6],[7,8,9]))\n",
    "print('total:',arr.size)\n",
    "print('rows:',np.size(arr,0))\n",
    "print('rows:',np.size(arr,1)) #numpy.size count the number of elements along a given axis 0 rows 1 columns"
   ]
  },
  {
   "cell_type": "markdown",
   "id": "25d63bd4-3183-46e2-8bd5-b79033005248",
   "metadata": {},
   "source": [
    "## Dtype Function"
   ]
  },
  {
   "cell_type": "markdown",
   "id": "d12dc404-f524-49e9-9c9c-2b62de232251",
   "metadata": {},
   "source": [
    "Every ndarray has an associated data type (dtype) object. This data type object (dtype) informs us about the layout of the array. \n",
    "This means it gives us information about:\n"
   ]
  },
  {
   "cell_type": "markdown",
   "id": "60a3216c-0d4e-4f78-b463-50cd8534c148",
   "metadata": {},
   "source": [
    "* Type of the data (integer, float, Python object, etc.)\n",
    "* Size of the data (number of bytes)\n",
    "* The byte order of the data (little-endian or big-endian)\n",
    "* If the data type is a sub-array, what is its shape and data type?"
   ]
  },
  {
   "cell_type": "code",
   "execution_count": 8,
   "id": "9e5d8915-046e-484d-95c5-ee4107c80adb",
   "metadata": {},
   "outputs": [
    {
     "name": "stdout",
     "output_type": "stream",
     "text": [
      "int64\n",
      "float64\n"
     ]
    }
   ],
   "source": [
    "arr1=np.array([1,2,3,4,5])\n",
    "arr2=np.array([1.2,2.2,3.2,4.5,5.8])\n",
    "print(arr1.dtype)\n",
    "print(arr2.dtype)"
   ]
  },
  {
   "cell_type": "markdown",
   "id": "5974ea44-17ee-4445-bbe4-90ab62184732",
   "metadata": {},
   "source": [
    "## Ndim Function"
   ]
  },
  {
   "cell_type": "markdown",
   "id": "cbc7e06b-88bd-4771-8ed7-10344b49a6fa",
   "metadata": {},
   "source": [
    "numpy.ndarray.ndim() returns the number of dimension in an array"
   ]
  },
  {
   "cell_type": "code",
   "execution_count": 9,
   "id": "a1346085-3134-4277-9159-1c71209a52c0",
   "metadata": {},
   "outputs": [
    {
     "name": "stdout",
     "output_type": "stream",
     "text": [
      "1\n",
      "2\n",
      "3\n"
     ]
    }
   ],
   "source": [
    "arr1 = np.array([1,2,3,1,2,3])\n",
    "arr2 = np.array([[1,2,3],[1,2,3]])\n",
    "\n",
    "print(arr1.ndim)\n",
    "print(arr2.ndim)\n",
    "\n",
    "arr3 = np.array(arr1, ndmin = 3)\n",
    "print(arr3.ndim)"
   ]
  },
  {
   "cell_type": "markdown",
   "id": "e92fc03b-70a0-4174-a750-2586313e70fd",
   "metadata": {},
   "source": [
    "## Zeros Function"
   ]
  },
  {
   "cell_type": "markdown",
   "id": "9ecbf14e-dee9-4110-9f78-ab7a77e8330e",
   "metadata": {},
   "source": [
    "The numpy.zeros() function returns a new array of given shape and type, with zeros. Syntax:\n",
    "\n",
    "numpy.zeros(shape, dtype = None)"
   ]
  },
  {
   "cell_type": "code",
   "execution_count": 10,
   "id": "9d85c419-049c-4573-93fc-9a35997ffb2d",
   "metadata": {},
   "outputs": [
    {
     "name": "stdout",
     "output_type": "stream",
     "text": [
      "[[0 0 0 0 0]\n",
      " [0 0 0 0 0]\n",
      " [0 0 0 0 0]]\n"
     ]
    }
   ],
   "source": [
    "arr=np.zeros(shape=(3,5),dtype=int)\n",
    "print(arr)"
   ]
  },
  {
   "cell_type": "markdown",
   "id": "0a07ed89-bcab-4183-b09f-4c13f88f0e21",
   "metadata": {},
   "source": [
    "## Ones Function"
   ]
  },
  {
   "cell_type": "markdown",
   "id": "00179a26-ca64-40f1-8203-6ca5714deb93",
   "metadata": {},
   "source": [
    "The numpy.ones() function returns a new array of given shape and type, with ones.\n",
    "\n",
    "Syntax: numpy.ones(shape, dtype = None)"
   ]
  },
  {
   "cell_type": "code",
   "execution_count": 11,
   "id": "de07d50d-d365-4561-9b5f-b433823094d7",
   "metadata": {},
   "outputs": [
    {
     "name": "stdout",
     "output_type": "stream",
     "text": [
      "[[1 1 1 1 1]\n",
      " [1 1 1 1 1]\n",
      " [1 1 1 1 1]]\n"
     ]
    }
   ],
   "source": [
    "arr=np.ones(shape=(3,5),dtype=int)\n",
    "print(arr)"
   ]
  },
  {
   "cell_type": "markdown",
   "id": "1c83e909-0330-4022-a028-c63aaa3a9160",
   "metadata": {},
   "source": [
    "## Empty Function"
   ]
  },
  {
   "cell_type": "markdown",
   "id": "9ece9fe4-8409-4be5-8603-5c80fcb89de1",
   "metadata": {},
   "source": [
    "Return am empty array of given shape and type"
   ]
  },
  {
   "cell_type": "code",
   "execution_count": 12,
   "id": "eec5f683-8d1a-457d-99dd-66785097a412",
   "metadata": {},
   "outputs": [
    {
     "data": {
      "text/plain": [
       "array([[25895968444448860, 23925768161198147, 32370111954616435,\n",
       "        30962749953998940, 25896170310140010],\n",
       "       [19140779460001857, 25896114476810337, 27303497949970508,\n",
       "        32088490948427884, 27303562373955695],\n",
       "       [22518393281380461, 31244169099083897, 34058815785402478,\n",
       "        30962724186357876, 25895916903923763],\n",
       "       [25896118771056716, 28429470870863987, 27866439313522733,\n",
       "        28429415035764843, 32933044727578739],\n",
       "       [25896217555763309, 32088624092872799, 28429440805240933,\n",
       "        31525614010564717,      519698382894]])"
      ]
     },
     "execution_count": 12,
     "metadata": {},
     "output_type": "execute_result"
    }
   ],
   "source": [
    "np.empty(shape=(5,5),dtype=int)"
   ]
  },
  {
   "cell_type": "markdown",
   "id": "de1d4ad4-f7a2-44d8-8f92-52447e1da079",
   "metadata": {},
   "source": [
    "## Random  Functions"
   ]
  },
  {
   "cell_type": "markdown",
   "id": "02c8495c-3bc4-4382-95eb-2a5b62e9e691",
   "metadata": {},
   "source": [
    "## a) np.random.rand"
   ]
  },
  {
   "cell_type": "markdown",
   "id": "c0edc417-b3d1-49da-bf74-0110e8aa5399",
   "metadata": {},
   "source": [
    "The numpy.random.rand() function creates an array of specified shape and fills it with random values."
   ]
  },
  {
   "cell_type": "code",
   "execution_count": 13,
   "id": "a17f3793-bf0e-4c17-94f3-0a302bdf0f66",
   "metadata": {},
   "outputs": [
    {
     "data": {
      "text/plain": [
       "array([[0.13241136, 0.3609935 , 0.23429173, 0.47880498],\n",
       "       [0.63276464, 0.21430354, 0.20694994, 0.7652594 ],\n",
       "       [0.50070126, 0.00901206, 0.20493649, 0.20340203]])"
      ]
     },
     "execution_count": 13,
     "metadata": {},
     "output_type": "execute_result"
    }
   ],
   "source": [
    "np.random.rand(3,4)"
   ]
  },
  {
   "cell_type": "markdown",
   "id": "0b2852b1-8808-4a79-ae14-9a5867c10a31",
   "metadata": {},
   "source": [
    "## b) np.random.randint"
   ]
  },
  {
   "cell_type": "markdown",
   "id": "f3ecd618-be87-4fa8-92ce-c69d96698f4d",
   "metadata": {},
   "source": [
    "numpy.random.randint() is one of the function for doing random sampling in numpy.\n",
    "It returns an array of specified shape and fills it with random integers from low (inclusive) to high (exclusive),\n",
    "i.e. in the interval [low, high).\n"
   ]
  },
  {
   "cell_type": "code",
   "execution_count": 14,
   "id": "a5c4ed4a-66c4-4997-bf02-6c1e2c71bcf8",
   "metadata": {},
   "outputs": [
    {
     "data": {
      "text/plain": [
       "array([8, 7, 6, 7, 9, 5, 3, 8, 2, 3], dtype=int32)"
      ]
     },
     "execution_count": 14,
     "metadata": {},
     "output_type": "execute_result"
    }
   ],
   "source": [
    "np.random.randint(low=1,high=10,size=10)"
   ]
  },
  {
   "cell_type": "markdown",
   "id": "b1bbea06-5dac-4a9a-ada3-ec9997102e7e",
   "metadata": {},
   "source": [
    "## c) np.random.randn"
   ]
  },
  {
   "cell_type": "markdown",
   "id": "42d754b7-5b13-424d-814d-ab2937049743",
   "metadata": {},
   "source": [
    "The numpy.random.randn() function creates an array of specified shape and fills it with random values as per standard normal distribution."
   ]
  },
  {
   "cell_type": "code",
   "execution_count": 15,
   "id": "d511d95d-f7e9-46aa-8718-65ffa3426544",
   "metadata": {},
   "outputs": [
    {
     "data": {
      "image/png": "[encoded data removed]",
      "text/plain": [
       "<Figure size 640x480 with 1 Axes>"
      ]
     },
     "metadata": {},
     "output_type": "display_data"
    }
   ],
   "source": [
    "import matplotlib.pyplot as plt\n",
    "%matplotlib inline\n",
    "plt.hist(np.random.randn(1000000),bins=1000);"
   ]
  },
  {
   "cell_type": "markdown",
   "id": "dde4128f-ea50-4265-8598-37af7ad9df0b",
   "metadata": {},
   "source": [
    "## 12. Reshape function - will not alter the original data"
   ]
  },
  {
   "cell_type": "markdown",
   "id": "5974b58f-9288-40d6-93f7-60bb8251dd30",
   "metadata": {},
   "source": [
    "The numpy.reshape() function shapes an array without changing the data of the array.<br> It should be noted that the product if the rows and columns should be same "
   ]
  },
  {
   "cell_type": "code",
   "execution_count": 16,
   "id": "7f6611da-6af9-4282-ba20-0f6ddf0fcae7",
   "metadata": {},
   "outputs": [
    {
     "name": "stdout",
     "output_type": "stream",
     "text": [
      "(3, 4)\n",
      "(4, 3)\n",
      "(6, 2)\n"
     ]
    }
   ],
   "source": [
    "arr=np.random.randint(1,15,(3,4))\n",
    "print(arr.shape)\n",
    "arr=arr.reshape(4,3)\n",
    "print(arr.shape)\n",
    "arr=arr.reshape(6,2)\n",
    "print(arr.shape)"
   ]
  },
  {
   "cell_type": "markdown",
   "id": "9d45a9f7-ae24-417e-b562-d61c4bc6480a",
   "metadata": {},
   "source": [
    "## 13. Linspace  Function"
   ]
  },
  {
   "cell_type": "markdown",
   "id": "0540a778-51e2-4b77-985b-c4c4370e6762",
   "metadata": {},
   "source": [
    "The numpy.linspace() function returns number spaces evenly w.r.t interval. Similar to numpy.arange() function but instead of step it uses sample number."
   ]
  },
  {
   "cell_type": "markdown",
   "id": "a78b9ae3-0df1-4960-bf96-092276d60961",
   "metadata": {},
   "source": [
    "Parameters :\n",
    "\n",
    "* start : [optional] start of interval range. By default start = 0\n",
    "* stop : end of interval range\n",
    "* restep : If True, return (samples, step). By default restep = False\n",
    "* num : [int, optional] No. of samples to generate\n",
    "* dtype : type of output array"
   ]
  },
  {
   "cell_type": "code",
   "execution_count": 17,
   "id": "97828473-b4f9-4753-aa99-fd6f10e25c5b",
   "metadata": {},
   "outputs": [
    {
     "data": {
      "text/plain": [
       "array([ 1.  ,  3.25,  5.5 ,  7.75, 10.  ])"
      ]
     },
     "execution_count": 17,
     "metadata": {},
     "output_type": "execute_result"
    }
   ],
   "source": [
    "np.linspace(1,10,5) # start=1 end=10 total values=5 "
   ]
  },
  {
   "cell_type": "markdown",
   "id": "eaf2d819-4a64-4e02-b77c-42e87dbc99a6",
   "metadata": {},
   "source": [
    "## 14. Flatten  Function"
   ]
  },
  {
   "cell_type": "markdown",
   "id": "fe8c7024-afa9-4b22-ad54-9aeca44bc9d3",
   "metadata": {},
   "source": [
    "ndarray.flatten() function return a copy of the array collapsed into one dimension."
   ]
  },
  {
   "cell_type": "markdown",
   "id": "c163f380-97b7-41aa-b3a9-c605b2cdbaa2",
   "metadata": {},
   "source": [
    "arr=np.random.randint(1,15,(3,4))\n",
    "print(arr.shape)\n",
    "print(arr)\n",
    "print('-'*20)\n",
    "arr=arr.flatten()\n",
    "print(arr.shape)\n",
    "print(arr)"
   ]
  },
  {
   "cell_type": "markdown",
   "id": "ddce74f3-5f32-4f91-af9b-5fb0701c6f84",
   "metadata": {},
   "source": [
    "## 15. Logspace  Function"
   ]
  },
  {
   "cell_type": "markdown",
   "id": "3b2c33db-4d68-455b-aabb-42012c1e08f6",
   "metadata": {},
   "source": [
    "The numpy.logspace() function returns number spaces evenly w.r.t interval on a log scale."
   ]
  },
  {
   "cell_type": "code",
   "execution_count": 18,
   "id": "793d712f-fba4-456e-9163-9a50da7384e3",
   "metadata": {},
   "outputs": [
    {
     "name": "stdout",
     "output_type": "stream",
     "text": [
      "[  100.           166.81005372   278.25594022   464.15888336\n",
      "   774.26368268  1291.54966501  2154.43469003  3593.8136638\n",
      "  5994.84250319 10000.        ]\n"
     ]
    }
   ],
   "source": [
    "arr1=np.logspace(2,4,10) #ranges from 10^2 to 10^4 default base is 10\n",
    "print(arr1)"
   ]
  },
  {
   "cell_type": "code",
   "execution_count": 20,
   "id": "64f65b0b-f879-46ad-8a79-0f0d9e364e49",
   "metadata": {},
   "outputs": [
    {
     "name": "stdout",
     "output_type": "stream",
     "text": [
      "[ 4.          4.66611616  5.44316     6.34960421  7.4069977   8.64047791\n",
      " 10.0793684  11.75787594 13.71590373 16.        ]\n"
     ]
    }
   ],
   "source": [
    "arr2=np.logspace(2,4,10,base=2) #ranges from 2^2 to 2^4 with base 2\n",
    "print(arr2)"
   ]
  },
  {
   "cell_type": "markdown",
   "id": "ebe2291b-ff82-4165-8bdd-aadd1f5dd0c7",
   "metadata": {},
   "source": [
    "## Copy Function"
   ]
  },
  {
   "cell_type": "markdown",
   "id": "4ca41359-a373-49f8-9dac-b5df5c4206f4",
   "metadata": {},
   "source": [
    "If we normally use the equals sign then the **id** of both the numpy array will be same, so we need to use to copy function"
   ]
  },
  {
   "cell_type": "code",
   "execution_count": 22,
   "id": "134ee464-bbe9-4bb8-8390-cb74b4b3a08a",
   "metadata": {},
   "outputs": [
    {
     "name": "stdout",
     "output_type": "stream",
     "text": [
      "2565693368320\n",
      "2565696816640\n",
      "2565739658624\n",
      "2565739658624\n"
     ]
    }
   ],
   "source": [
    "arr1=np.random.randint(1,15,10)\n",
    "arr2=arr1\n",
    "print(arr1,id(arr1))\n",
    "print(arr2,id(arr2))\n",
    "print('-'*20)\n",
    "arr1=np.random.randint(1,15,10)\n",
    "arr2=arr1.copy(arr1)\n"
   ]
  },
  {
   "cell_type": "markdown",
   "id": "5ed685ff-4188-41df-96e9-0619658e63a5",
   "metadata": {},
   "source": [
    "## arr.max() ,  arr.min() ,     arr.sum() functions"
   ]
  },
  {
   "cell_type": "markdown",
   "id": "fc4ce49d-2adb-48cd-978f-e76969730121",
   "metadata": {},
   "source": [
    "* arr.max() will give us the maximum element present in the array\n",
    "* arr.min() will give us the minimun element present in the array\n",
    "* arr.sum() will give us the sum of all the elements present in the array"
   ]
  },
  {
   "cell_type": "code",
   "execution_count": 24,
   "id": "14ca2800-f7d3-4f6c-aeab-ace0d82c5340",
   "metadata": {},
   "outputs": [
    {
     "name": "stdout",
     "output_type": "stream",
     "text": [
      "[[ 7 14  8  6  8]\n",
      " [12  5  2 10  3]\n",
      " [11  5 12  3  3]]\n",
      "max element: 14\n",
      "minimum element: 2\n",
      "sum of element: 109\n"
     ]
    }
   ],
   "source": [
    "arr=np.random.randint(1,15,(3,5))\n",
    "print(arr)\n",
    "print('max element:',arr.max())\n",
    "print('minimum element:',arr.min())\n",
    "print('sum of element:',arr.sum())"
   ]
  },
  {
   "cell_type": "markdown",
   "id": "dab68d37-9aca-4070-b049-c7a25e31eb35",
   "metadata": {},
   "source": [
    "**We can use the axis parameter to get the max, min and sum of a particular column or row**"
   ]
  },
  {
   "cell_type": "markdown",
   "id": "b1ab9108-7e32-4d2f-8e95-ef8186e7795d",
   "metadata": {},
   "source": [
    "* axis=0 is for the column\n",
    "* axis=1 is for the row"
   ]
  },
  {
   "cell_type": "markdown",
   "id": "7a3495ad-4fe2-4fe3-b2c6-8912d0a622e8",
   "metadata": {},
   "source": [
    "**Columns**"
   ]
  },
  {
   "cell_type": "code",
   "execution_count": 26,
   "id": "10daff63-5b31-404d-a8c2-8e9dad1bac1d",
   "metadata": {},
   "outputs": [
    {
     "name": "stdout",
     "output_type": "stream",
     "text": [
      "[[14  1  4 13  3]\n",
      " [11  8  6  7  7]\n",
      " [ 1 10  2 12  8]]\n",
      "max element: [14 10  6 13  8]\n",
      "minimum element: [1 1 2 7 3]\n",
      "sum of element: [26 19 12 32 18]\n"
     ]
    }
   ],
   "source": [
    "arr=np.random.randint(1,15,(3,5))\n",
    "print(arr)\n",
    "print('max element:',arr.max(axis=0))\n",
    "print('minimum element:',arr.min(axis=0))\n",
    "print('sum of element:',arr.sum(axis=0))"
   ]
  },
  {
   "cell_type": "markdown",
   "id": "3fc7c72e-5cc6-482c-9f0a-2c5d101eff2a",
   "metadata": {},
   "source": [
    "**rows**"
   ]
  },
  {
   "cell_type": "code",
   "execution_count": 27,
   "id": "778adcaa-0904-46dd-90ec-2abb4b2512c7",
   "metadata": {},
   "outputs": [
    {
     "name": "stdout",
     "output_type": "stream",
     "text": [
      "[[13  2  6 11 12]\n",
      " [ 7 14  6  3 13]\n",
      " [ 1  9 12 10  2]]\n",
      "max element: [13 14 12]\n",
      "minimum element: [2 3 1]\n",
      "sum of element: [44 43 34]\n"
     ]
    }
   ],
   "source": [
    "arr=np.random.randint(1,15,(3,5))\n",
    "print(arr)\n",
    "print('max element:',arr.max(axis=1))\n",
    "print('minimum element:',arr.min(axis=1))\n",
    "print('sum of element:',arr.sum(axis=1))"
   ]
  },
  {
   "cell_type": "markdown",
   "id": "f9527ff3-3405-4e92-8e96-55875c55377e",
   "metadata": {},
   "source": [
    "## Seed Function"
   ]
  },
  {
   "cell_type": "markdown",
   "id": "96b9eb28-8a2f-413b-9d35-fc7ab58516c3",
   "metadata": {},
   "source": [
    "random() function is used to generate random numbers in Python.<br>Not actually random, rather this is used to generate pseudo-random numbers.<br>That implies that these randomly generated numbers can be determined.<br> random() function generates numbers for some values.<br> This value is also called seed value.\n",
    "\n",
    "Syntax : random.seed( l, version )<br>"
   ]
  },
  {
   "cell_type": "markdown",
   "id": "0f890145-b03f-4e46-a49d-50f8e4dcf60a",
   "metadata": {},
   "source": [
    "Parameter :\n",
    "\n",
    "* l : Any seed value used to produce a random number.\n",
    "* version : A integer used to specify how to convert l in a integer."
   ]
  },
  {
   "cell_type": "code",
   "execution_count": 30,
   "id": "820c29db-5fbb-4a72-ba6f-d9bc82cf73e0",
   "metadata": {},
   "outputs": [
    {
     "name": "stdout",
     "output_type": "stream",
     "text": [
      "[[9 4 9 9 1]\n",
      " [6 4 6 8 7]\n",
      " [1 5 8 9 2]]\n"
     ]
    }
   ],
   "source": [
    "np.random.seed(3)\n",
    "arr=np.random.randint(1,10,(3,5))\n",
    "print(arr)"
   ]
  },
  {
   "cell_type": "markdown",
   "id": "3694dc06-fe7b-466a-8f2e-ce6d92377466",
   "metadata": {},
   "source": [
    "## Sorting Function"
   ]
  },
  {
   "cell_type": "markdown",
   "id": "91ba24d4-5c3b-49a2-a108-70557e1ab1a3",
   "metadata": {},
   "source": [
    "numpy.sort() : This function returns a sorted copy of an array."
   ]
  },
  {
   "cell_type": "markdown",
   "id": "1f35c2a4-1650-4d4a-91f5-2dbd4781e922",
   "metadata": {},
   "source": [
    "Parameters :\n",
    "* arr : Array to be sorted.\n",
    "* axis : Axis along which we need array to be started.\n",
    "* order : This argument specifies which fields to compare first.\n",
    "* kind : [‘quicksort’{default}, ‘mergesort’, ‘heapsort’]Sorting algorithm."
   ]
  },
  {
   "cell_type": "code",
   "execution_count": 39,
   "id": "3402a12a-f7c1-43a0-bc5a-9949e01ad07c",
   "metadata": {},
   "outputs": [
    {
     "name": "stdout",
     "output_type": "stream",
     "text": [
      "[[9 4 9 9 1]\n",
      " [6 4 6 8 7]\n",
      " [1 5 8 9 2]]\n",
      "--------------------\n",
      "[[1 4 9 9 9]\n",
      " [4 6 6 7 8]\n",
      " [1 2 5 8 9]]\n",
      "--------------------\n",
      "[[1 4 6 8 1]\n",
      " [6 4 8 9 2]\n",
      " [9 5 9 9 7]]\n",
      "--------------------\n",
      "[[1 1 2 4 4]\n",
      " [5 6 6 7 8]\n",
      " [8 9 9 9 9]]\n"
     ]
    }
   ],
   "source": [
    "np.random.seed(3)\n",
    "arr=np.random.randint(1,10,(3,5))\n",
    "print(arr)\n",
    "print('-'*20)\n",
    "print(np.sort(arr,axis=1)) #sort along row\n",
    "print('-'*20)\n",
    "print(np.sort(arr,axis=0)) #sort along column\n",
    "print('-'*20)\n",
    "arr = np.reshape(np.sort(arr.flatten()), arr.shape) #sorted matrix\n",
    "print(arr)"
   ]
  },
  {
   "cell_type": "markdown",
   "id": "b75ea179-d736-4e22-8c08-19cb5a198b44",
   "metadata": {},
   "source": [
    "We can choose which type of sort we want to perform"
   ]
  },
  {
   "cell_type": "code",
   "execution_count": 42,
   "id": "56e27b39-09f6-40f2-91b7-98dedb797710",
   "metadata": {},
   "outputs": [
    {
     "name": "stdout",
     "output_type": "stream",
     "text": [
      "[[1 1 2 4 4]\n",
      " [5 6 6 7 8]\n",
      " [8 9 9 9 9]]\n"
     ]
    }
   ],
   "source": [
    "print(np.sort(arr,axis=0,kind='mergesort'))"
   ]
  },
  {
   "cell_type": "markdown",
   "id": "f0155ade-9ea0-40bf-972c-16e20e6686f7",
   "metadata": {},
   "source": [
    "## Mathematical Operations"
   ]
  },
  {
   "cell_type": "markdown",
   "id": "e5391444-5c74-40e7-b679-3302180dbbd9",
   "metadata": {},
   "source": [
    "### Addition"
   ]
  },
  {
   "cell_type": "code",
   "execution_count": 44,
   "id": "9d131880-c06d-46de-8938-14b8861bb361",
   "metadata": {},
   "outputs": [
    {
     "name": "stdout",
     "output_type": "stream",
     "text": [
      "[[9 4 9 9 1]\n",
      " [6 4 6 8 7]\n",
      " [1 5 8 9 2]]\n",
      "--------------------\n",
      "[[10  5 10 10  2]\n",
      " [ 7  5  7  9  8]\n",
      " [ 2  6  9 10  3]]\n"
     ]
    }
   ],
   "source": [
    "np.random.seed(3)\n",
    "arr=np.random.randint(1,10,(3,5))\n",
    "print(arr)\n",
    "print('-'*20)\n",
    "print(arr+1)"
   ]
  },
  {
   "cell_type": "markdown",
   "id": "105d6d54-b4b4-45ec-a565-07755598d891",
   "metadata": {},
   "source": [
    "### Subtraction"
   ]
  },
  {
   "cell_type": "code",
   "execution_count": 45,
   "id": "35fb4c16-948f-4704-9d47-c0177ced625d",
   "metadata": {},
   "outputs": [
    {
     "name": "stdout",
     "output_type": "stream",
     "text": [
      "[[9 4 9 9 1]\n",
      " [6 4 6 8 7]\n",
      " [1 5 8 9 2]]\n",
      "--------------------\n",
      "[[8 3 8 8 0]\n",
      " [5 3 5 7 6]\n",
      " [0 4 7 8 1]]\n"
     ]
    }
   ],
   "source": [
    "print(arr)\n",
    "print('-'*20)\n",
    "print(arr-1)"
   ]
  },
  {
   "cell_type": "markdown",
   "id": "1107e8e1-3353-4563-9024-7bb2c39ed27e",
   "metadata": {},
   "source": [
    "### Multiplication"
   ]
  },
  {
   "cell_type": "code",
   "execution_count": 46,
   "id": "5391ddce-71a2-44f4-a287-2765fddf031c",
   "metadata": {},
   "outputs": [
    {
     "name": "stdout",
     "output_type": "stream",
     "text": [
      "[[9 4 9 9 1]\n",
      " [6 4 6 8 7]\n",
      " [1 5 8 9 2]]\n",
      "--------------------\n",
      "[[27 12 27 27  3]\n",
      " [18 12 18 24 21]\n",
      " [ 3 15 24 27  6]]\n"
     ]
    }
   ],
   "source": [
    "print(arr)\n",
    "print('-'*20)\n",
    "print(arr*3)"
   ]
  },
  {
   "cell_type": "markdown",
   "id": "b1044b55-29cb-47da-bd2f-c5df82aad9c6",
   "metadata": {},
   "source": [
    "### Division"
   ]
  },
  {
   "cell_type": "code",
   "execution_count": 47,
   "id": "b75962af-7ef0-4425-8257-ac344ebf91c3",
   "metadata": {},
   "outputs": [
    {
     "name": "stdout",
     "output_type": "stream",
     "text": [
      "[[9 4 9 9 1]\n",
      " [6 4 6 8 7]\n",
      " [1 5 8 9 2]]\n",
      "--------------------\n",
      "[[3.         1.33333333 3.         3.         0.33333333]\n",
      " [2.         1.33333333 2.         2.66666667 2.33333333]\n",
      " [0.33333333 1.66666667 2.66666667 3.         0.66666667]]\n"
     ]
    }
   ],
   "source": [
    "print(arr)\n",
    "print('-'*20)\n",
    "print(arr/3)"
   ]
  },
  {
   "cell_type": "markdown",
   "id": "0c965632-1c4c-46be-b394-b580aaa2eb53",
   "metadata": {},
   "source": [
    "### Matrix Multiplication"
   ]
  },
  {
   "cell_type": "code",
   "execution_count": 53,
   "id": "6aca5244-bddd-41b8-a2fc-9c04b9f71207",
   "metadata": {},
   "outputs": [
    {
     "name": "stdout",
     "output_type": "stream",
     "text": [
      "[[2 3 6 3 8]\n",
      " [7 8 2 6 8]\n",
      " [6 8 3 7 5]]\n",
      "--------------------\n",
      "[[9 5 4]\n",
      " [9 6 7]\n",
      " [4 9 5]\n",
      " [3 8 8]\n",
      " [3 3 1]]\n",
      "--------------------\n",
      "[[102 130  91]\n",
      " [185 173 150]\n",
      " [174 176 156]]\n",
      "--------------------\n",
      "[[102 130  91]\n",
      " [185 173 150]\n",
      " [174 176 156]]\n"
     ]
    }
   ],
   "source": [
    "arr1=np.random.randint(1,10,(3,5))\n",
    "print(arr1)\n",
    "print('-'*20)\n",
    "arr2=np.random.randint(1,10,(5,3))\n",
    "print(arr2)\n",
    "print('-'*20)\n",
    "print(arr1@arr2) # @ and dot is used for matrix multiplication\n",
    "print('-'*20)\n",
    "print(arr1.dot(arr2))"
   ]
  },
  {
   "cell_type": "markdown",
   "id": "8a4c6eed-946c-4710-b77d-b18dd45ddcb2",
   "metadata": {},
   "source": [
    "## Power"
   ]
  },
  {
   "cell_type": "code",
   "execution_count": 54,
   "id": "10e9f939-9693-460e-9819-f0b1605297c5",
   "metadata": {},
   "outputs": [
    {
     "name": "stdout",
     "output_type": "stream",
     "text": [
      "[[9 4 9 9 1]\n",
      " [6 4 6 8 7]\n",
      " [1 5 8 9 2]]\n",
      "--------------------\n",
      "[[81 16 81 81  1]\n",
      " [36 16 36 64 49]\n",
      " [ 1 25 64 81  4]]\n"
     ]
    }
   ],
   "source": [
    "print(arr)\n",
    "print('-'*20)\n",
    "print(arr**2)"
   ]
  },
  {
   "cell_type": "markdown",
   "id": "6e98eb68-3745-43e9-9db4-6bc25393ebbc",
   "metadata": {},
   "source": [
    "## Percentile Function"
   ]
  },
  {
   "cell_type": "markdown",
   "id": "95fd21c6-913c-442c-8a85-ba7c55b7aef5",
   "metadata": {},
   "source": [
    "numpy.percentile()function used to compute the nth percentile of the given data (array elements) along the specified axis."
   ]
  },
  {
   "cell_type": "code",
   "execution_count": 6,
   "id": "c6a8fbe9-3761-44a6-b237-122318260ba1",
   "metadata": {},
   "outputs": [
    {
     "name": "stdout",
     "output_type": "stream",
     "text": [
      "[9 4 9 9 1 6 4 6 8 7]\n",
      "--------------------\n",
      "[1 4 4 6 6 7 8 9 9 9]\n",
      "6.5\n"
     ]
    }
   ],
   "source": [
    "np.random.seed(3)\n",
    "arr=np.random.randint(1,10,10)\n",
    "print(arr)\n",
    "print('-'*20)\n",
    "arr=np.sort(arr)\n",
    "print(arr)\n",
    "print(np.percentile(arr,50)) #The 50th percentile is the median.\n",
    "#[1,4,4,6,6,7,8,9,9,9] median=6+7/2=6.5"
   ]
  },
  {
   "cell_type": "markdown",
   "id": "97b00779-3553-4d68-ba76-239b4af63b81",
   "metadata": {},
   "source": [
    "##  Mean, Variance and Standard deviation"
   ]
  },
  {
   "cell_type": "code",
   "execution_count": 7,
   "id": "27b370d1-b625-4239-9dbc-15ca5806fcdb",
   "metadata": {},
   "outputs": [
    {
     "name": "stdout",
     "output_type": "stream",
     "text": [
      "[1 5 8 9 2 7 3 3 2 4]\n",
      "4.4\n",
      "6.839999999999999\n",
      "2.6153393661244038\n"
     ]
    }
   ],
   "source": [
    "arr = np.random.randint(1,10,10)\n",
    "\n",
    "print(arr)\n",
    "print(arr.mean())\n",
    "print(arr.var())\n",
    "print(arr.std())"
   ]
  },
  {
   "cell_type": "markdown",
   "id": "3edff9f0-4d85-40e3-b26f-f6859b3ab722",
   "metadata": {},
   "source": [
    "## Filtering an numpy array"
   ]
  },
  {
   "cell_type": "code",
   "execution_count": 8,
   "id": "a4fa1b89-17e1-458d-9913-a8645f6dab60",
   "metadata": {},
   "outputs": [
    {
     "name": "stdout",
     "output_type": "stream",
     "text": [
      "[1 2 3 4 5 6 7 8 9]\n",
      "[ True  True  True  True False False False False False]\n",
      "[1 2 3 4]\n"
     ]
    }
   ],
   "source": [
    "arr = np.arange(1,10)\n",
    "print(arr)\n",
    "print(arr < 5)\n",
    "print(arr[arr < 5])"
   ]
  },
  {
   "cell_type": "markdown",
   "id": "5503e2c8-68e8-43cd-9543-18796cc7a57c",
   "metadata": {},
   "source": [
    "## Transposing an array"
   ]
  },
  {
   "cell_type": "code",
   "execution_count": 9,
   "id": "05fd4950-a410-4c02-8460-d12290a01dc2",
   "metadata": {},
   "outputs": [
    {
     "name": "stdout",
     "output_type": "stream",
     "text": [
      "[[ 6  9 15  2 11]\n",
      " [ 8 12  2 16 17]\n",
      " [ 6 18 15  1  1]]\n",
      "--------------------\n",
      "[[ 6  8  6]\n",
      " [ 9 12 18]\n",
      " [15  2 15]\n",
      " [ 2 16  1]\n",
      " [11 17  1]]\n"
     ]
    }
   ],
   "source": [
    "arr = np.random.randint(1,20,(3,5))\n",
    "\n",
    "print(arr)\n",
    "print('-'*20)\n",
    "print(arr.T)"
   ]
  },
  {
   "cell_type": "markdown",
   "id": "86525890-4d3e-4f03-98bf-650a95aebd0d",
   "metadata": {},
   "source": [
    "## Where function "
   ]
  },
  {
   "cell_type": "code",
   "execution_count": 10,
   "id": "56d6f449-a5eb-4726-8c2f-1c7393ad3295",
   "metadata": {},
   "outputs": [
    {
     "data": {
      "text/plain": [
       "array([19, 64, 38, 57, 57, 72, 38, 47, 34,  2], dtype=int32)"
      ]
     },
     "execution_count": 10,
     "metadata": {},
     "output_type": "execute_result"
    }
   ],
   "source": [
    "arr = np.random.randint(1,100,10)\n",
    "arr"
   ]
  },
  {
   "cell_type": "code",
   "execution_count": 11,
   "id": "1e006f28-519f-47f4-b0a3-9a9138b929e6",
   "metadata": {},
   "outputs": [
    {
     "name": "stdout",
     "output_type": "stream",
     "text": [
      "[19 64 38 57 57 72 38 47 34  2]\n",
      "['19' 'even' 'even' '57' '57' 'even' 'even' '47' 'even' 'even']\n",
      "['odd' '64' '38' 'odd' 'odd' '72' '38' 'odd' '34' '2']\n",
      "['odd' 'even' 'even' 'odd' 'odd' 'even' 'even' 'odd' 'even' 'even']\n"
     ]
    }
   ],
   "source": [
    "print(arr)\n",
    "\n",
    "print(np.where(arr%2==0, 'even',arr))\n",
    "print(np.where(arr%2!=0, 'odd',arr))\n",
    "\n",
    "arr1 = np.where(arr%2==0, 'even',arr)\n",
    "arr1 = np.where(arr%2!=0, 'odd',arr1)\n",
    "\n",
    "print(arr1)"
   ]
  },
  {
   "cell_type": "markdown",
   "id": "813adc82-0da1-41e6-b921-6fd511f5e3bc",
   "metadata": {},
   "source": [
    "## Merging Arrays"
   ]
  },
  {
   "cell_type": "code",
   "execution_count": 12,
   "id": "16ce3879-a944-463f-a260-dbe206263d9a",
   "metadata": {},
   "outputs": [
    {
     "name": "stdout",
     "output_type": "stream",
     "text": [
      "[[6 6 8 5]\n",
      " [4 1 1 1]]\n",
      "---------------\n",
      "[[1 3 3 8]\n",
      " [1 6 1 2]]\n",
      "------------------------------\n",
      "[[6 6 8 5]\n",
      " [4 1 1 1]\n",
      " [1 3 3 8]\n",
      " [1 6 1 2]]\n",
      "------------------------------\n",
      "[[6 6 8 5 1 3 3 8]\n",
      " [4 1 1 1 1 6 1 2]]\n"
     ]
    }
   ],
   "source": [
    "arr1 = np.random.randint(1,10,(2,4))\n",
    "arr2 = np.random.randint(1,10,(2,4))\n",
    "print(arr1)\n",
    "print('-'*15)\n",
    "print(arr2)\n",
    "\n",
    "print('-'*30)\n",
    "print(np.concatenate((arr1,arr2), axis = 0))\n",
    "print('-'*30)\n",
    "print(np.concatenate((arr1,arr2), axis = 1))"
   ]
  },
  {
   "cell_type": "markdown",
   "id": "50e4c3a3-e058-47bf-8746-5ba46ec06455",
   "metadata": {},
   "source": [
    "b) Vstack and Hstack"
   ]
  },
  {
   "cell_type": "markdown",
   "id": "d25001a6-10c2-41c4-9e03-af8960c1d133",
   "metadata": {},
   "source": [
    "numpy.hstack() function is used to stack the sequence of input arrays horizontally (i.e. column wise) to make a single array."
   ]
  },
  {
   "cell_type": "code",
   "execution_count": 13,
   "id": "14026383-d4db-4b26-8f0f-419f6b4f0f62",
   "metadata": {},
   "outputs": [
    {
     "name": "stdout",
     "output_type": "stream",
     "text": [
      "[[5 2 3 3]\n",
      " [5 9 1 7]]\n",
      "---------------\n",
      "[[1 5 2 6]\n",
      " [2 9 9 8]]\n",
      "---------------\n",
      "[[5 2 3 3 1 5 2 6]\n",
      " [5 9 1 7 2 9 9 8]]\n"
     ]
    }
   ],
   "source": [
    "arr1 = np.random.randint(1,10,(2,4))\n",
    "arr2 = np.random.randint(1,10,(2,4))\n",
    "\n",
    "print(arr1)\n",
    "print('-'*15)\n",
    "print(arr2)\n",
    "print('-'*15)\n",
    "\n",
    "print(np.hstack((arr1,arr2)))"
   ]
  },
  {
   "cell_type": "markdown",
   "id": "ccd8fb7c-557e-49ad-83e4-9a972558fa09",
   "metadata": {},
   "source": [
    "numpy.vstack() function is used to stack the sequence of input arrays vertically to make a single array."
   ]
  },
  {
   "cell_type": "code",
   "execution_count": 14,
   "id": "9848379c-cadc-410f-a211-fe201310ef67",
   "metadata": {},
   "outputs": [
    {
     "name": "stdout",
     "output_type": "stream",
     "text": [
      "[[5 2 3 3]\n",
      " [5 9 1 7]]\n",
      "---------------\n",
      "[[1 5 2 6]\n",
      " [2 9 9 8]]\n",
      "---------------\n",
      "[[5 2 3 3]\n",
      " [5 9 1 7]\n",
      " [1 5 2 6]\n",
      " [2 9 9 8]]\n"
     ]
    }
   ],
   "source": [
    "print(arr1)\n",
    "print('-'*15)\n",
    "print(arr2)\n",
    "print('-'*15)\n",
    "print(np.vstack((arr1,arr2)))"
   ]
  },
  {
   "cell_type": "markdown",
   "id": "e47c02ed-dec2-4092-9692-cd8bf7179fb9",
   "metadata": {},
   "source": [
    "## Splitting Arrays"
   ]
  },
  {
   "cell_type": "code",
   "execution_count": 15,
   "id": "d82e89ca-ea27-4bbb-a7c8-2b912867df2b",
   "metadata": {},
   "outputs": [
    {
     "name": "stdout",
     "output_type": "stream",
     "text": [
      "[[1 1 2 8]\n",
      " [9 8 5 1]\n",
      " [1 5 4 1]\n",
      " [9 3 8 3]]\n"
     ]
    }
   ],
   "source": [
    "arr = np.random.randint(1,10,(4,4))\n",
    "print(arr)"
   ]
  },
  {
   "cell_type": "markdown",
   "id": "8b9282d7-75a8-4343-85e5-aa7ae71f1014",
   "metadata": {},
   "source": [
    "numpy.vsplit() function split an array into multiple sub-arrays vertically (row-wise). \n",
    "vsplit is equivalent to split with axis=0 (default), the array is always split along the first axis regardless of the array dimension."
   ]
  },
  {
   "cell_type": "code",
   "execution_count": 16,
   "id": "3ef33296-8fa1-4ca8-9ae8-499558556b9e",
   "metadata": {},
   "outputs": [
    {
     "data": {
      "text/plain": [
       "[array([[1, 1, 2, 8],\n",
       "        [9, 8, 5, 1]], dtype=int32),\n",
       " array([[1, 5, 4, 1],\n",
       "        [9, 3, 8, 3]], dtype=int32)]"
      ]
     },
     "execution_count": 16,
     "metadata": {},
     "output_type": "execute_result"
    }
   ],
   "source": [
    "np.vsplit(arr, 2)"
   ]
  },
  {
   "cell_type": "markdown",
   "id": "3c7008db-871a-4108-aa2c-4e432541c3a5",
   "metadata": {},
   "source": [
    "numpy.hsplit() function split an array into multiple sub-arrays horizontally (column-wise). \n",
    "hsplit is equivalent to split with axis=1, the array is always split along the second axis regardless of the array dimension."
   ]
  },
  {
   "cell_type": "code",
   "execution_count": 17,
   "id": "b0a50b8d-a357-40d6-bfcc-d658db14f4cc",
   "metadata": {},
   "outputs": [
    {
     "data": {
      "text/plain": [
       "[array([[1, 1],\n",
       "        [9, 8],\n",
       "        [1, 5],\n",
       "        [9, 3]], dtype=int32),\n",
       " array([[2, 8],\n",
       "        [5, 1],\n",
       "        [4, 1],\n",
       "        [8, 3]], dtype=int32)]"
      ]
     },
     "execution_count": 17,
     "metadata": {},
     "output_type": "execute_result"
    }
   ],
   "source": [
    "np.hsplit(arr, 2)"
   ]
  },
  {
   "cell_type": "code",
   "execution_count": null,
   "id": "15911ced-872e-44e0-8a86-58be897dc6b1",
   "metadata": {},
   "outputs": [],
   "source": []
  }
 ],
 "metadata": {
  "kernelspec": {
   "display_name": "Python 3 (ipykernel)",
   "language": "python",
   "name": "python3"
  },
  "language_info": {
   "codemirror_mode": {
    "name": "ipython",
    "version": 3
   },
   "file_extension": ".py",
   "mimetype": "text/x-python",
   "name": "python",
   "nbconvert_exporter": "python",
   "pygments_lexer": "ipython3",
   "version": "3.13.2"
  }
 },
 "nbformat": 4,
 "nbformat_minor": 5
}
